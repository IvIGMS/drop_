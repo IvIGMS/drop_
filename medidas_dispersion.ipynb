{
 "cells": [
  {
   "cell_type": "code",
   "metadata": {
    "tags": [],
    "cell_id": "920fc64e-7575-41a5-8f5e-8b9b9c33f2c4",
    "deepnote_to_be_reexecuted": false,
    "source_hash": "20e563c9",
    "execution_start": 1657126721518,
    "execution_millis": 3126,
    "deepnote_cell_type": "code",
    "deepnote_cell_height": 135
   },
   "source": "import pandas as pd\nimport matplotlib.pyplot as plt\nimport seaborn as sns\ncars = pd.read_csv('cars.csv')",
   "execution_count": null,
   "outputs": []
  },
  {
   "cell_type": "code",
   "metadata": {
    "cell_id": "33664b54b7644f55882cda843dea8980",
    "tags": [],
    "deepnote_to_be_reexecuted": false,
    "source_hash": "ccce33d2",
    "execution_start": 1657126724652,
    "execution_millis": 13,
    "deepnote_cell_type": "code",
    "deepnote_cell_height": 136.1875,
    "deepnote_output_heights": [
     21.1875
    ]
   },
   "source": "# Desviacion estandar\ncars['price_usd'].std()",
   "execution_count": null,
   "outputs": [
    {
     "output_type": "execute_result",
     "execution_count": 2,
     "data": {
      "text/plain": "6428.1520182029035"
     },
     "metadata": {}
    }
   ]
  },
  {
   "cell_type": "code",
   "metadata": {
    "cell_id": "80125c7a05234e3186e601895a852a3d",
    "tags": [],
    "deepnote_to_be_reexecuted": false,
    "source_hash": "cd99f779",
    "execution_start": 1657126724715,
    "execution_millis": 1198935,
    "deepnote_cell_type": "code",
    "deepnote_cell_height": 154.1875,
    "deepnote_output_heights": [
     21.1875
    ]
   },
   "source": "# Rango\nrango = cars['price_usd'].max() - cars['price_usd'].min()\nrango",
   "execution_count": null,
   "outputs": [
    {
     "output_type": "execute_result",
     "execution_count": 3,
     "data": {
      "text/plain": "49999.0"
     },
     "metadata": {}
    }
   ]
  },
  {
   "cell_type": "code",
   "metadata": {
    "cell_id": "c314d2772f164998a4af408afa7cf3a4",
    "tags": [],
    "deepnote_to_be_reexecuted": false,
    "source_hash": "fd47f714",
    "execution_start": 1657126724716,
    "execution_millis": 2,
    "deepnote_cell_type": "code",
    "deepnote_cell_height": 510.375
   },
   "source": "# Queartiles. Con cuantile pordemos saber todos los quartiles, los percentiles, el max, el min,\n# la mediana.\nmedian = cars['price_usd'].median()\nQ1 = cars['price_usd'].quantile(q=0.25)\nQ3 = cars['price_usd'].quantile(q=0.75)\nmin_val = cars['price_usd'].quantile(q=0)\nmax_val = cars['price_usd'].quantile(q=1)\n# Rango interquartil\niqr = Q3 - Q1\n\nprint(f'{Q1} {Q3} {median} {min_val} {max_val} {iqr}')\n\n# Estos datos no tienen una 'distribucion simetrica', por tanto cuando hallemos los limites van\n# a salir mal. En teoria si los datos del precio estan fuera de este limite maximo y minimo,\n# no van a tenerse en cuenta, pero nos sale un numero negativo en el minimo, por lo tanto,\n# esto no sirve para esta grafica.\n\nmin_limit = Q1 - 1.5*iqr\nmax_limit = Q3 + 1.5*iqr\n\nprint(min_limit, max_limit)\n",
   "execution_count": null,
   "outputs": [
    {
     "name": "stdout",
     "text": "2100.0 8990.0 4800.0 1.0 50000.0 6890.0\n-8235.0 19325.0\n",
     "output_type": "stream"
    }
   ]
  },
  {
   "cell_type": "code",
   "metadata": {
    "cell_id": "e266b6f93897422c9dffc0633ba6aee1",
    "tags": [],
    "deepnote_to_be_reexecuted": false,
    "source_hash": "726afc8e",
    "execution_start": 1657126724716,
    "execution_millis": 1095,
    "deepnote_cell_type": "code",
    "deepnote_cell_height": 521.1875,
    "deepnote_output_heights": [
     21.1875,
     354
    ]
   },
   "source": "# Vemos que es una grafica sesgada. No es una distribucion simetrica.\nsns.displot(cars['price_usd'])",
   "execution_count": null,
   "outputs": [
    {
     "output_type": "execute_result",
     "execution_count": 5,
     "data": {
      "text/plain": "<seaborn.axisgrid.FacetGrid at 0x7ff7c74dc640>"
     },
     "metadata": {}
    },
    {
     "data": {
      "text/plain": "<Figure size 360x360 with 1 Axes>",
      "image/png": "[encoded data removed]"
     },
     "metadata": {
      "needs_background": "light",
      "image/png": {
       "width": 353,
       "height": 352
      }
     },
     "output_type": "display_data"
    }
   ]
  },
  {
   "cell_type": "code",
   "metadata": {
    "cell_id": "6f4cb355d404427a9399ab7cda4d84ae",
    "tags": [],
    "owner_user_id": "76c988ce-c079-448e-8fa5-dfe0edeb0a4c",
    "deepnote_to_be_reexecuted": false,
    "source_hash": "bd22e960",
    "execution_start": 1657126725862,
    "execution_millis": 275,
    "deepnote_cell_type": "code",
    "deepnote_cell_height": 708.5625,
    "deepnote_output_heights": [
     null,
     21.1875,
     435
    ]
   },
   "source": "# Vamos a dibujar el diagrama de caja que representa el iqr, desviacion estandar, etc.\nsns.boxplot(cars['price_usd'])\n# Vemos que esta todo demasiado sesgado para que los datos salgan bien. Vemos le max_val en 20k.sns\n# De 20.000 hacia arriba son datos OUTLINERS",
   "execution_count": null,
   "outputs": [
    {
     "name": "stderr",
     "text": "/shared-libs/python3.9/py/lib/python3.9/site-packages/seaborn/_decorators.py:36: FutureWarning: Pass the following variable as a keyword arg: x. From version 0.12, the only valid positional argument will be `data`, and passing other arguments without an explicit keyword will result in an error or misinterpretation.\n  warnings.warn(\n",
     "output_type": "stream"
    },
    {
     "output_type": "execute_result",
     "execution_count": 6,
     "data": {
      "text/plain": "<AxesSubplot:xlabel='price_usd'>"
     },
     "metadata": {}
    },
    {
     "data": {
      "text/plain": "<Figure size 640x480 with 1 Axes>",
      "image/png": "[encoded data removed]"
     },
     "metadata": {
      "image/png": {
       "width": 520,
       "height": 433
      }
     },
     "output_type": "display_data"
    }
   ]
  },
  {
   "cell_type": "markdown",
   "source": "<a style='text-decoration:none;line-height:16px;display:flex;color:#5B5B62;padding:10px;justify-content:end;' href='https://deepnote.com?utm_source=created-in-deepnote-cell&projectId=02e33a0c-4367-4b9b-852f-6d7d0cb42491' target=\"_blank\">\n<img alt='Created in deepnote.com' style='display:inline;max-height:16px;margin:0px;margin-right:7.5px;' src='data:image/svg+xml;base64,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' > </img>\nCreated in <span style='font-weight:600;margin-left:4px;'>Deepnote</span></a>",
   "metadata": {
    "tags": [],
    "created_in_deepnote_cell": true,
    "deepnote_cell_type": "markdown"
   }
  }
 ],
 "nbformat": 4,
 "nbformat_minor": 2,
 "metadata": {
  "orig_nbformat": 2,
  "deepnote": {},
  "deepnote_notebook_id": "78fe8c8b-4a6b-41cf-9d26-75df5625333d",
  "deepnote_execution_queue": []
 }
}
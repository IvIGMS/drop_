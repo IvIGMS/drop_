{
 "cells": [
  {
   "cell_type": "code",
   "metadata": {
    "tags": [],
    "cell_id": "cf7e25ed-5bc3-4f16-aaa9-f27f379929b2",
    "deepnote_to_be_reexecuted": false,
    "source_hash": "35e4b59",
    "execution_start": 1657114988658,
    "execution_millis": 302,
    "owner_user_id": "76c988ce-c079-448e-8fa5-dfe0edeb0a4c",
    "deepnote_cell_type": "code",
    "deepnote_cell_height": 482
   },
   "source": "import pandas as pd\ncars = pd.read_csv('cars.csv')\ncars.head()\n\ncars.groupby('manufacturer_name')",
   "execution_count": null,
   "outputs": [
    {
     "output_type": "execute_result",
     "execution_count": 25,
     "data": {
      "application/vnd.deepnote.dataframe.v3+json": {
       "column_count": 30,
       "row_count": 5,
       "columns": [
        {
         "name": "manufacturer_name",
         "dtype": "object",
         "stats": {
          "unique_count": 1,
          "nan_count": 0,
          "categories": [
           {
            "name": "Subaru",
            "count": 5
           }
          ]
         }
        },
        {
         "name": "model_name",
         "dtype": "object",
         "stats": {
          "unique_count": 4,
          "nan_count": 0,
          "categories": [
           {
            "name": "Outback",
            "count": 2
           },
           {
            "name": "Forester",
            "count": 1
           },
           {
            "name": "2 others",
            "count": 2
           }
          ]
         }
        },
        {
         "name": "transmission",
         "dtype": "object",
         "stats": {
          "unique_count": 2,
          "nan_count": 0,
          "categories": [
           {
            "name": "automatic",
            "count": 4
           },
           {
            "name": "mechanical",
            "count": 1
           }
          ]
         }
        },
        {
         "name": "color",
         "dtype": "object",
         "stats": {
          "unique_count": 4,
          "nan_count": 0,
          "categories": [
           {
            "name": "blue",
            "count": 2
           },
           {
            "name": "silver",
            "count": 1
           },
           {
            "name": "2 others",
            "count": 2
           }
          ]
         }
        },
        {
         "name": "odometer_value",
         "dtype": "int64",
         "stats": {
          "unique_count": 5,
          "nan_count": 0,
          "min": "10000",
          "max": "402000",
          "histogram": [
           {
            "bin_start": 10000,
            "bin_end": 49200,
            "count": 1
           },
           {
            "bin_start": 49200,
            "bin_end": 88400,
            "count": 0
           },
           {
            "bin_start": 88400,
            "bin_end": 127600,
            "count": 0
           },
           {
            "bin_start": 127600,
            "bin_end": 166800,
            "count": 0
           },
           {
            "bin_start": 166800,
            "bin_end": 206000,
            "count": 1
           },
           {
            "bin_start": 206000,
            "bin_end": 245200,
            "count": 0
           },
           {
            "bin_start": 245200,
            "bin_end": 284400,
            "count": 1
           },
           {
            "bin_start": 284400,
            "bin_end": 323600,
            "count": 1
           },
           {
            "bin_start": 323600,
            "bin_end": 362800,
            "count": 0
           },
           {
            "bin_start": 362800,
            "bin_end": 402000,
            "count": 1
           }
          ]
         }
        },
        {
         "name": "year_produced",
         "dtype": "int64",
         "stats": {
          "unique_count": 4,
          "nan_count": 0,
          "min": "1999",
          "max": "2010",
          "histogram": [
           {
            "bin_start": 1999,
            "bin_end": 2000.1,
            "count": 1
           },
           {
            "bin_start": 2000.1,
            "bin_end": 2001.2,
            "count": 2
           },
           {
            "bin_start": 2001.2,
            "bin_end": 2002.3,
            "count": 1
           },
           {
            "bin_start": 2002.3,
            "bin_end": 2003.4,
            "count": 0
           },
           {
            "bin_start": 2003.4,
            "bin_end": 2004.5,
            "count": 0
           },
           {
            "bin_start": 2004.5,
            "bin_end": 2005.6,
            "count": 0
           },
           {
            "bin_start": 2005.6,
            "bin_end": 2006.7,
            "count": 0
           },
           {
            "bin_start": 2006.7,
            "bin_end": 2007.8,
            "count": 0
           },
           {
            "bin_start": 2007.8,
            "bin_end": 2008.9,
            "count": 0
           },
           {
            "bin_start": 2008.9,
            "bin_end": 2010,
            "count": 1
           }
          ]
         }
        },
        {
         "name": "engine_fuel",
         "dtype": "object",
         "stats": {
          "unique_count": 1,
          "nan_count": 0,
          "categories": [
           {
            "name": "gasoline",
            "count": 5
           }
          ]
         }
        },
        {
         "name": "engine_has_gas",
         "dtype": "bool",
         "stats": {
          "unique_count": 1,
          "nan_count": 0,
          "categories": [
           {
            "name": "False",
            "count": 5
           }
          ]
         }
        },
        {
         "name": "engine_type",
         "dtype": "object",
         "stats": {
          "unique_count": 1,
          "nan_count": 0,
          "categories": [
           {
            "name": "gasoline",
            "count": 5
           }
          ]
         }
        },
        {
         "name": "engine_capacity",
         "dtype": "float64",
         "stats": {
          "unique_count": 2,
          "nan_count": 0,
          "min": "2.5",
          "max": "3.0",
          "histogram": [
           {
            "bin_start": 2.5,
            "bin_end": 2.55,
            "count": 3
           },
           {
            "bin_start": 2.55,
            "bin_end": 2.6,
            "count": 0
           },
           {
            "bin_start": 2.6,
            "bin_end": 2.65,
            "count": 0
           },
           {
            "bin_start": 2.65,
            "bin_end": 2.7,
            "count": 0
           },
           {
            "bin_start": 2.7,
            "bin_end": 2.75,
            "count": 0
           },
           {
            "bin_start": 2.75,
            "bin_end": 2.8,
            "count": 0
           },
           {
            "bin_start": 2.8,
            "bin_end": 2.85,
            "count": 0
           },
           {
            "bin_start": 2.85,
            "bin_end": 2.9,
            "count": 0
           },
           {
            "bin_start": 2.9,
            "bin_end": 2.95,
            "count": 0
           },
           {
            "bin_start": 2.95,
            "bin_end": 3,
            "count": 2
           }
          ]
         }
        },
        {
         "name": "body_type",
         "dtype": "object",
         "stats": {
          "unique_count": 3,
          "nan_count": 0,
          "categories": [
           {
            "name": "universal",
            "count": 3
           },
           {
            "name": "suv",
            "count": 1
           },
           {
            "name": "sedan",
            "count": 1
           }
          ]
         }
        },
        {
         "name": "has_warranty",
         "dtype": "bool",
         "stats": {
          "unique_count": 1,
          "nan_count": 0,
          "categories": [
           {
            "name": "False",
            "count": 5
           }
          ]
         }
        },
        {
         "name": "state",
         "dtype": "object",
         "stats": {
          "unique_count": 1,
          "nan_count": 0,
          "categories": [
           {
            "name": "owned",
            "count": 5
           }
          ]
         }
        },
        {
         "name": "drivetrain",
         "dtype": "object",
         "stats": {
          "unique_count": 1,
          "nan_count": 0,
          "categories": [
           {
            "name": "all",
            "count": 5
           }
          ]
         }
        },
        {
         "name": "price_usd",
         "dtype": "float64",
         "stats": {
          "unique_count": 5,
          "nan_count": 0,
          "min": "2134.11",
          "max": "10900.0",
          "histogram": [
           {
            "bin_start": 2134.11,
            "bin_end": 3010.699,
            "count": 2
           },
           {
            "bin_start": 3010.699,
            "bin_end": 3887.288,
            "count": 0
           },
           {
            "bin_start": 3887.288,
            "bin_end": 4763.877,
            "count": 0
           },
           {
            "bin_start": 4763.877,
            "bin_end": 5640.466,
            "count": 1
           },
           {
            "bin_start": 5640.466,
            "bin_end": 6517.055,
            "count": 0
           },
           {
            "bin_start": 6517.055,
            "bin_end": 7393.644,
            "count": 0
           },
           {
            "bin_start": 7393.644,
            "bin_end": 8270.233,
            "count": 0
           },
           {
            "bin_start": 8270.233,
            "bin_end": 9146.822,
            "count": 0
           },
           {
            "bin_start": 9146.822,
            "bin_end": 10023.411,
            "count": 1
           },
           {
            "bin_start": 10023.411,
            "bin_end": 10900,
            "count": 1
           }
          ]
         }
        },
        {
         "name": "is_exchangeable",
         "dtype": "bool",
         "stats": {
          "unique_count": 2,
          "nan_count": 0,
          "categories": [
           {
            "name": "True",
            "count": 4
           },
           {
            "name": "False",
            "count": 1
           }
          ]
         }
        },
        {
         "name": "location_region",
         "dtype": "object",
         "stats": {
          "unique_count": 2,
          "nan_count": 0,
          "categories": [
           {
            "name": "Минская обл.",
            "count": 4
           },
           {
            "name": "Гомельская обл.",
            "count": 1
           }
          ]
         }
        },
        {
         "name": "number_of_photos",
         "dtype": "int64",
         "stats": {
          "unique_count": 4,
          "nan_count": 0,
          "min": "4",
          "max": "14",
          "histogram": [
           {
            "bin_start": 4,
            "bin_end": 5,
            "count": 1
           },
           {
            "bin_start": 5,
            "bin_end": 6,
            "count": 0
           },
           {
            "bin_start": 6,
            "bin_end": 7,
            "count": 0
           },
           {
            "bin_start": 7,
            "bin_end": 8,
            "count": 0
           },
           {
            "bin_start": 8,
            "bin_end": 9,
            "count": 0
           },
           {
            "bin_start": 9,
            "bin_end": 10,
            "count": 2
           },
           {
            "bin_start": 10,
            "bin_end": 11,
            "count": 0
           },
           {
            "bin_start": 11,
            "bin_end": 12,
            "count": 0
           },
           {
            "bin_start": 12,
            "bin_end": 13,
            "count": 1
           },
           {
            "bin_start": 13,
            "bin_end": 14,
            "count": 1
           }
          ]
         }
        },
        {
         "name": "up_counter",
         "dtype": "int64",
         "stats": {
          "unique_count": 5,
          "nan_count": 0,
          "min": "7",
          "max": "72",
          "histogram": [
           {
            "bin_start": 7,
            "bin_end": 13.5,
            "count": 2
           },
           {
            "bin_start": 13.5,
            "bin_end": 20,
            "count": 0
           },
           {
            "bin_start": 20,
            "bin_end": 26.5,
            "count": 0
           },
           {
            "bin_start": 26.5,
            "bin_end": 33,
            "count": 0
           },
           {
            "bin_start": 33,
            "bin_end": 39.5,
            "count": 0
           },
           {
            "bin_start": 39.5,
            "bin_end": 46,
            "count": 1
           },
           {
            "bin_start": 46,
            "bin_end": 52.5,
            "count": 0
           },
           {
            "bin_start": 52.5,
            "bin_end": 59,
            "count": 1
           },
           {
            "bin_start": 59,
            "bin_end": 65.5,
            "count": 0
           },
           {
            "bin_start": 65.5,
            "bin_end": 72,
            "count": 1
           }
          ]
         }
        },
        {
         "name": "feature_0",
         "dtype": "bool",
         "stats": {
          "unique_count": 2,
          "nan_count": 0,
          "categories": [
           {
            "name": "False",
            "count": 4
           },
           {
            "name": "True",
            "count": 1
           }
          ]
         }
        },
        {
         "name": "feature_1",
         "dtype": "bool",
         "stats": {
          "unique_count": 2,
          "nan_count": 0,
          "categories": [
           {
            "name": "True",
            "count": 4
           },
           {
            "name": "False",
            "count": 1
           }
          ]
         }
        },
        {
         "name": "feature_2",
         "dtype": "bool",
         "stats": {
          "unique_count": 2,
          "nan_count": 0,
          "categories": [
           {
            "name": "False",
            "count": 4
           },
           {
            "name": "True",
            "count": 1
           }
          ]
         }
        },
        {
         "name": "feature_3",
         "dtype": "bool",
         "stats": {
          "unique_count": 2,
          "nan_count": 0,
          "categories": [
           {
            "name": "False",
            "count": 3
           },
           {
            "name": "True",
            "count": 2
           }
          ]
         }
        },
        {
         "name": "feature_4",
         "dtype": "bool",
         "stats": {
          "unique_count": 2,
          "nan_count": 0,
          "categories": [
           {
            "name": "False",
            "count": 3
           },
           {
            "name": "True",
            "count": 2
           }
          ]
         }
        },
        {
         "name": "feature_5",
         "dtype": "bool",
         "stats": {
          "unique_count": 2,
          "nan_count": 0,
          "categories": [
           {
            "name": "False",
            "count": 3
           },
           {
            "name": "True",
            "count": 2
           }
          ]
         }
        },
        {
         "name": "feature_6",
         "dtype": "bool",
         "stats": {
          "unique_count": 1,
          "nan_count": 0,
          "categories": [
           {
            "name": "False",
            "count": 5
           }
          ]
         }
        },
        {
         "name": "feature_7",
         "dtype": "bool",
         "stats": {
          "unique_count": 2,
          "nan_count": 0,
          "categories": [
           {
            "name": "False",
            "count": 4
           },
           {
            "name": "True",
            "count": 1
           }
          ]
         }
        },
        {
         "name": "feature_8",
         "dtype": "bool",
         "stats": {
          "unique_count": 2,
          "nan_count": 0,
          "categories": [
           {
            "name": "False",
            "count": 3
           },
           {
            "name": "True",
            "count": 2
           }
          ]
         }
        },
        {
         "name": "feature_9",
         "dtype": "bool",
         "stats": {
          "unique_count": 2,
          "nan_count": 0,
          "categories": [
           {
            "name": "True",
            "count": 4
           },
           {
            "name": "False",
            "count": 1
           }
          ]
         }
        },
        {
         "name": "duration_listed",
         "dtype": "int64",
         "stats": {
          "unique_count": 5,
          "nan_count": 0,
          "min": "7",
          "max": "151",
          "histogram": [
           {
            "bin_start": 7,
            "bin_end": 21.4,
            "count": 2
           },
           {
            "bin_start": 21.4,
            "bin_end": 35.8,
            "count": 0
           },
           {
            "bin_start": 35.8,
            "bin_end": 50.2,
            "count": 0
           },
           {
            "bin_start": 50.2,
            "bin_end": 64.6,
            "count": 0
           },
           {
            "bin_start": 64.6,
            "bin_end": 79,
            "count": 0
           },
           {
            "bin_start": 79,
            "bin_end": 93.4,
            "count": 2
           },
           {
            "bin_start": 93.4,
            "bin_end": 107.8,
            "count": 0
           },
           {
            "bin_start": 107.8,
            "bin_end": 122.2,
            "count": 0
           },
           {
            "bin_start": 122.2,
            "bin_end": 136.6,
            "count": 0
           },
           {
            "bin_start": 136.6,
            "bin_end": 151,
            "count": 1
           }
          ]
         }
        },
        {
         "name": "_deepnote_index_column",
         "dtype": "int64"
        }
       ],
       "rows": [
        {
         "manufacturer_name": "Subaru",
         "model_name": "Outback",
         "transmission": "automatic",
         "color": "silver",
         "odometer_value": 190000,
         "year_produced": 2010,
         "engine_fuel": "gasoline",
         "engine_has_gas": false,
         "engine_type": "gasoline",
         "engine_capacity": 2.5,
         "body_type": "universal",
         "has_warranty": false,
         "state": "owned",
         "drivetrain": "all",
         "price_usd": 10900,
         "is_exchangeable": false,
         "location_region": "Минская обл.",
         "number_of_photos": 9,
         "up_counter": 13,
         "feature_0": false,
         "feature_1": true,
         "feature_2": true,
         "feature_3": true,
         "feature_4": false,
         "feature_5": true,
         "feature_6": false,
         "feature_7": true,
         "feature_8": true,
         "feature_9": true,
         "duration_listed": 16,
         "_deepnote_index_column": 0
        },
        {
         "manufacturer_name": "Subaru",
         "model_name": "Outback",
         "transmission": "automatic",
         "color": "blue",
         "odometer_value": 290000,
         "year_produced": 2002,
         "engine_fuel": "gasoline",
         "engine_has_gas": false,
         "engine_type": "gasoline",
         "engine_capacity": 3,
         "body_type": "universal",
         "has_warranty": false,
         "state": "owned",
         "drivetrain": "all",
         "price_usd": 5000,
         "is_exchangeable": true,
         "location_region": "Минская обл.",
         "number_of_photos": 12,
         "up_counter": 54,
         "feature_0": false,
         "feature_1": true,
         "feature_2": false,
         "feature_3": false,
         "feature_4": true,
         "feature_5": true,
         "feature_6": false,
         "feature_7": false,
         "feature_8": false,
         "feature_9": true,
         "duration_listed": 83,
         "_deepnote_index_column": 1
        },
        {
         "manufacturer_name": "Subaru",
         "model_name": "Forester",
         "transmission": "automatic",
         "color": "red",
         "odometer_value": 402000,
         "year_produced": 2001,
         "engine_fuel": "gasoline",
         "engine_has_gas": false,
         "engine_type": "gasoline",
         "engine_capacity": 2.5,
         "body_type": "suv",
         "has_warranty": false,
         "state": "owned",
         "drivetrain": "all",
         "price_usd": 2800,
         "is_exchangeable": true,
         "location_region": "Минская обл.",
         "number_of_photos": 4,
         "up_counter": 72,
         "feature_0": false,
         "feature_1": true,
         "feature_2": false,
         "feature_3": false,
         "feature_4": false,
         "feature_5": false,
         "feature_6": false,
         "feature_7": false,
         "feature_8": true,
         "feature_9": true,
         "duration_listed": 151,
         "_deepnote_index_column": 2
        },
        {
         "manufacturer_name": "Subaru",
         "model_name": "Impreza",
         "transmission": "mechanical",
         "color": "blue",
         "odometer_value": 10000,
         "year_produced": 1999,
         "engine_fuel": "gasoline",
         "engine_has_gas": false,
         "engine_type": "gasoline",
         "engine_capacity": 3,
         "body_type": "sedan",
         "has_warranty": false,
         "state": "owned",
         "drivetrain": "all",
         "price_usd": 9999,
         "is_exchangeable": true,
         "location_region": "Минская обл.",
         "number_of_photos": 9,
         "up_counter": 42,
         "feature_0": true,
         "feature_1": false,
         "feature_2": false,
         "feature_3": false,
         "feature_4": false,
         "feature_5": false,
         "feature_6": false,
         "feature_7": false,
         "feature_8": false,
         "feature_9": false,
         "duration_listed": 86,
         "_deepnote_index_column": 3
        },
        {
         "manufacturer_name": "Subaru",
         "model_name": "Legacy",
         "transmission": "automatic",
         "color": "black",
         "odometer_value": 280000,
         "year_produced": 2001,
         "engine_fuel": "gasoline",
         "engine_has_gas": false,
         "engine_type": "gasoline",
         "engine_capacity": 2.5,
         "body_type": "universal",
         "has_warranty": false,
         "state": "owned",
         "drivetrain": "all",
         "price_usd": 2134.11,
         "is_exchangeable": true,
         "location_region": "Гомельская обл.",
         "number_of_photos": 14,
         "up_counter": 7,
         "feature_0": false,
         "feature_1": true,
         "feature_2": false,
         "feature_3": true,
         "feature_4": true,
         "feature_5": false,
         "feature_6": false,
         "feature_7": false,
         "feature_8": false,
         "feature_9": true,
         "duration_listed": 7,
         "_deepnote_index_column": 4
        }
       ]
      },
      "text/plain": "  manufacturer_name model_name transmission   color  odometer_value  \\\n0            Subaru    Outback    automatic  silver          190000   \n1            Subaru    Outback    automatic    blue          290000   \n2            Subaru   Forester    automatic     red          402000   \n3            Subaru    Impreza   mechanical    blue           10000   \n4            Subaru     Legacy    automatic   black          280000   \n\n   year_produced engine_fuel  engine_has_gas engine_type  engine_capacity  \\\n0           2010    gasoline           False    gasoline              2.5   \n1           2002    gasoline           False    gasoline              3.0   \n2           2001    gasoline           False    gasoline              2.5   \n3           1999    gasoline           False    gasoline              3.0   \n4           2001    gasoline           False    gasoline              2.5   \n\n   ... feature_1  feature_2 feature_3 feature_4  feature_5  feature_6  \\\n0  ...      True       True      True     False       True      False   \n1  ...      True      False     False      True       True      False   \n2  ...      True      False     False     False      False      False   \n3  ...     False      False     False     False      False      False   \n4  ...      True      False      True      True      False      False   \n\n  feature_7  feature_8  feature_9  duration_listed  \n0      True       True       True               16  \n1     False      False       True               83  \n2     False       True       True              151  \n3     False      False      False               86  \n4     False      False       True                7  \n\n[5 rows x 30 columns]",
      "text/html": "<div>\n<style scoped>\n    .dataframe tbody tr th:only-of-type {\n        vertical-align: middle;\n    }\n\n    .dataframe tbody tr th {\n        vertical-align: top;\n    }\n\n    .dataframe thead th {\n        text-align: right;\n    }\n</style>\n<table border=\"1\" class=\"dataframe\">\n  <thead>\n    <tr style=\"text-align: right;\">\n      <th></th>\n      <th>manufacturer_name</th>\n      <th>model_name</th>\n      <th>transmission</th>\n      <th>color</th>\n      <th>odometer_value</th>\n      <th>year_produced</th>\n      <th>engine_fuel</th>\n      <th>engine_has_gas</th>\n      <th>engine_type</th>\n      <th>engine_capacity</th>\n      <th>...</th>\n      <th>feature_1</th>\n      <th>feature_2</th>\n      <th>feature_3</th>\n      <th>feature_4</th>\n      <th>feature_5</th>\n      <th>feature_6</th>\n      <th>feature_7</th>\n      <th>feature_8</th>\n      <th>feature_9</th>\n      <th>duration_listed</th>\n    </tr>\n  </thead>\n  <tbody>\n    <tr>\n      <th>0</th>\n      <td>Subaru</td>\n      <td>Outback</td>\n      <td>automatic</td>\n      <td>silver</td>\n      <td>190000</td>\n      <td>2010</td>\n      <td>gasoline</td>\n      <td>False</td>\n      <td>gasoline</td>\n      <td>2.5</td>\n      <td>...</td>\n      <td>True</td>\n      <td>True</td>\n      <td>True</td>\n      <td>False</td>\n      <td>True</td>\n      <td>False</td>\n      <td>True</td>\n      <td>True</td>\n      <td>True</td>\n      <td>16</td>\n    </tr>\n    <tr>\n      <th>1</th>\n      <td>Subaru</td>\n      <td>Outback</td>\n      <td>automatic</td>\n      <td>blue</td>\n      <td>290000</td>\n      <td>2002</td>\n      <td>gasoline</td>\n      <td>False</td>\n      <td>gasoline</td>\n      <td>3.0</td>\n      <td>...</td>\n      <td>True</td>\n      <td>False</td>\n      <td>False</td>\n      <td>True</td>\n      <td>True</td>\n      <td>False</td>\n      <td>False</td>\n      <td>False</td>\n      <td>True</td>\n      <td>83</td>\n    </tr>\n    <tr>\n      <th>2</th>\n      <td>Subaru</td>\n      <td>Forester</td>\n      <td>automatic</td>\n      <td>red</td>\n      <td>402000</td>\n      <td>2001</td>\n      <td>gasoline</td>\n      <td>False</td>\n      <td>gasoline</td>\n      <td>2.5</td>\n      <td>...</td>\n      <td>True</td>\n      <td>False</td>\n      <td>False</td>\n      <td>False</td>\n      <td>False</td>\n      <td>False</td>\n      <td>False</td>\n      <td>True</td>\n      <td>True</td>\n      <td>151</td>\n    </tr>\n    <tr>\n      <th>3</th>\n      <td>Subaru</td>\n      <td>Impreza</td>\n      <td>mechanical</td>\n      <td>blue</td>\n      <td>10000</td>\n      <td>1999</td>\n      <td>gasoline</td>\n      <td>False</td>\n      <td>gasoline</td>\n      <td>3.0</td>\n      <td>...</td>\n      <td>False</td>\n      <td>False</td>\n      <td>False</td>\n      <td>False</td>\n      <td>False</td>\n      <td>False</td>\n      <td>False</td>\n      <td>False</td>\n      <td>False</td>\n      <td>86</td>\n    </tr>\n    <tr>\n      <th>4</th>\n      <td>Subaru</td>\n      <td>Legacy</td>\n      <td>automatic</td>\n      <td>black</td>\n      <td>280000</td>\n      <td>2001</td>\n      <td>gasoline</td>\n      <td>False</td>\n      <td>gasoline</td>\n      <td>2.5</td>\n      <td>...</td>\n      <td>True</td>\n      <td>False</td>\n      <td>True</td>\n      <td>True</td>\n      <td>False</td>\n      <td>False</td>\n      <td>False</td>\n      <td>False</td>\n      <td>True</td>\n      <td>7</td>\n    </tr>\n  </tbody>\n</table>\n<p>5 rows × 30 columns</p>\n</div>"
     },
     "metadata": {}
    }
   ]
  },
  {
   "cell_type": "code",
   "metadata": {
    "cell_id": "e95da4e5fcaa4553a873d2fd271828e0",
    "tags": [],
    "deepnote_to_be_reexecuted": false,
    "source_hash": "262bc342",
    "execution_start": 1657114008815,
    "execution_millis": 3,
    "deepnote_cell_type": "code",
    "deepnote_cell_height": 186.375,
    "deepnote_output_heights": [
     21.1875
    ]
   },
   "source": "media = cars['price_usd'].mean()\nmediana = cars['price_usd'].median()\nprint(f'Media {media}')\nprint(f'Mediana {mediana}')",
   "execution_count": null,
   "outputs": [
    {
     "name": "stdout",
     "text": "Media 6639.971021255613\nMediana 4800.0\n",
     "output_type": "stream"
    }
   ]
  },
  {
   "cell_type": "code",
   "metadata": {
    "cell_id": "dae1c7300a5b40fba1575c0281e3fad2",
    "tags": [],
    "deepnote_to_be_reexecuted": false,
    "source_hash": "8aafed69",
    "execution_start": 1657115144900,
    "execution_millis": 2102,
    "deepnote_cell_type": "code",
    "deepnote_cell_height": 703,
    "deepnote_output_heights": [
     21,
     491
    ]
   },
   "source": "import seaborn as sns\n\nsns.displot(cars, x = 'price_usd', hue = 'engine_fuel', multiple = 'stack')",
   "execution_count": null,
   "outputs": [
    {
     "output_type": "execute_result",
     "execution_count": 30,
     "data": {
      "text/plain": "<seaborn.axisgrid.FacetGrid at 0x7fb44e79b400>"
     },
     "metadata": {}
    },
    {
     "data": {
      "text/plain": "<Figure size 640x500 with 1 Axes>",
      "image/png": "[encoded data removed]"
     },
     "metadata": {
      "image/png": {
       "width": 638,
       "height": 489
      }
     },
     "output_type": "display_data"
    }
   ]
  },
  {
   "cell_type": "code",
   "metadata": {
    "cell_id": "65059c6f72304136848a498235e3ac74",
    "tags": [],
    "deepnote_to_be_reexecuted": false,
    "source_hash": "4641db16",
    "execution_start": 1657115635522,
    "execution_millis": 43,
    "deepnote_cell_type": "code",
    "deepnote_cell_height": 331,
    "deepnote_output_heights": [
     21.1875,
     491
    ]
   },
   "source": "type_cars_engine = cars.groupby('engine_type').count().iloc[:,[0]].reset_index()\ntype_cars_engine",
   "execution_count": null,
   "outputs": [
    {
     "output_type": "execute_result",
     "execution_count": 49,
     "data": {
      "application/vnd.deepnote.dataframe.v3+json": {
       "column_count": 2,
       "row_count": 3,
       "columns": [
        {
         "name": "engine_type",
         "dtype": "object",
         "stats": {
          "unique_count": 3,
          "nan_count": 0,
          "categories": [
           {
            "name": "diesel",
            "count": 1
           },
           {
            "name": "electric",
            "count": 1
           },
           {
            "name": "gasoline",
            "count": 1
           }
          ]
         }
        },
        {
         "name": "manufacturer_name",
         "dtype": "int64",
         "stats": {
          "unique_count": 3,
          "nan_count": 0,
          "min": "10",
          "max": "25647",
          "histogram": [
           {
            "bin_start": 10,
            "bin_end": 2573.7,
            "count": 1
           },
           {
            "bin_start": 2573.7,
            "bin_end": 5137.4,
            "count": 0
           },
           {
            "bin_start": 5137.4,
            "bin_end": 7701.099999999999,
            "count": 0
           },
           {
            "bin_start": 7701.099999999999,
            "bin_end": 10264.8,
            "count": 0
           },
           {
            "bin_start": 10264.8,
            "bin_end": 12828.5,
            "count": 0
           },
           {
            "bin_start": 12828.5,
            "bin_end": 15392.199999999999,
            "count": 1
           },
           {
            "bin_start": 15392.199999999999,
            "bin_end": 17955.899999999998,
            "count": 0
           },
           {
            "bin_start": 17955.899999999998,
            "bin_end": 20519.6,
            "count": 0
           },
           {
            "bin_start": 20519.6,
            "bin_end": 23083.3,
            "count": 0
           },
           {
            "bin_start": 23083.3,
            "bin_end": 25647,
            "count": 1
           }
          ]
         }
        },
        {
         "name": "_deepnote_index_column",
         "dtype": "int64"
        }
       ],
       "rows": [
        {
         "engine_type": "diesel",
         "manufacturer_name": 12874,
         "_deepnote_index_column": 0
        },
        {
         "engine_type": "electric",
         "manufacturer_name": 10,
         "_deepnote_index_column": 1
        },
        {
         "engine_type": "gasoline",
         "manufacturer_name": 25647,
         "_deepnote_index_column": 2
        }
       ]
      },
      "text/plain": "  engine_type  manufacturer_name\n0      diesel              12874\n1    electric                 10\n2    gasoline              25647",
      "text/html": "<div>\n<style scoped>\n    .dataframe tbody tr th:only-of-type {\n        vertical-align: middle;\n    }\n\n    .dataframe tbody tr th {\n        vertical-align: top;\n    }\n\n    .dataframe thead th {\n        text-align: right;\n    }\n</style>\n<table border=\"1\" class=\"dataframe\">\n  <thead>\n    <tr style=\"text-align: right;\">\n      <th></th>\n      <th>engine_type</th>\n      <th>manufacturer_name</th>\n    </tr>\n  </thead>\n  <tbody>\n    <tr>\n      <th>0</th>\n      <td>diesel</td>\n      <td>12874</td>\n    </tr>\n    <tr>\n      <th>1</th>\n      <td>electric</td>\n      <td>10</td>\n    </tr>\n    <tr>\n      <th>2</th>\n      <td>gasoline</td>\n      <td>25647</td>\n    </tr>\n  </tbody>\n</table>\n</div>"
     },
     "metadata": {}
    }
   ]
  },
  {
   "cell_type": "code",
   "metadata": {
    "cell_id": "3ee76b250fe24040a249deb674513a41",
    "tags": [],
    "deepnote_to_be_reexecuted": false,
    "source_hash": "a27513af",
    "execution_start": 1657116022852,
    "execution_millis": 406,
    "deepnote_cell_type": "code",
    "deepnote_cell_height": 602.1875,
    "deepnote_output_heights": [
     21.1875,
     435
    ]
   },
   "source": "q7_cars = cars[cars['model_name'] == 'Q7']\nsns.scatterplot(data = q7_cars, x = 'price_usd', y = 'year_produced', hue= 'engine_type', size='engine_capacity')",
   "execution_count": null,
   "outputs": [
    {
     "output_type": "execute_result",
     "execution_count": 56,
     "data": {
      "text/plain": "<AxesSubplot:xlabel='price_usd', ylabel='year_produced'>"
     },
     "metadata": {}
    },
    {
     "data": {
      "text/plain": "<Figure size 640x480 with 1 Axes>",
      "image/png": "[encoded data removed]"
     },
     "metadata": {
      "image/png": {
       "width": 580,
       "height": 433
      }
     },
     "output_type": "display_data"
    }
   ]
  },
  {
   "cell_type": "code",
   "metadata": {
    "cell_id": "508e1c32c8f5463a878ac1961130e8c4",
    "tags": [],
    "deepnote_to_be_reexecuted": false,
    "source_hash": "704184a0",
    "execution_start": 1657116678013,
    "execution_millis": 43,
    "deepnote_cell_type": "code",
    "deepnote_cell_height": 600,
    "deepnote_output_heights": [
     21,
     435,
     611
    ]
   },
   "source": "cars.groupby('manufacturer_name').mean().loc[:,['price_usd']].reset_index()",
   "execution_count": null,
   "outputs": [
    {
     "output_type": "execute_result",
     "execution_count": 65,
     "data": {
      "application/vnd.deepnote.dataframe.v3+json": {
       "column_count": 2,
       "row_count": 55,
       "columns": [
        {
         "name": "manufacturer_name",
         "dtype": "object",
         "stats": {
          "unique_count": 55,
          "nan_count": 0,
          "categories": [
           {
            "name": "Acura",
            "count": 1
           },
           {
            "name": "Alfa Romeo",
            "count": 1
           },
           {
            "name": "53 others",
            "count": 53
           }
          ]
         }
        },
        {
         "name": "price_usd",
         "dtype": "float64",
         "stats": {
          "unique_count": 55,
          "nan_count": 0,
          "min": "978.9121818181818",
          "max": "18629.823770491803",
          "histogram": [
           {
            "bin_start": 978.9121818181818,
            "bin_end": 2744.0033406855437,
            "count": 6
           },
           {
            "bin_start": 2744.0033406855437,
            "bin_end": 4509.094499552906,
            "count": 10
           },
           {
            "bin_start": 4509.094499552906,
            "bin_end": 6274.185658420268,
            "count": 9
           },
           {
            "bin_start": 6274.185658420268,
            "bin_end": 8039.27681728763,
            "count": 10
           },
           {
            "bin_start": 8039.27681728763,
            "bin_end": 9804.367976154992,
            "count": 8
           },
           {
            "bin_start": 9804.367976154992,
            "bin_end": 11569.459135022353,
            "count": 3
           },
           {
            "bin_start": 11569.459135022353,
            "bin_end": 13334.550293889715,
            "count": 3
           },
           {
            "bin_start": 13334.550293889715,
            "bin_end": 15099.641452757078,
            "count": 2
           },
           {
            "bin_start": 15099.641452757078,
            "bin_end": 16864.73261162444,
            "count": 1
           },
           {
            "bin_start": 16864.73261162444,
            "bin_end": 18629.823770491803,
            "count": 3
           }
          ]
         }
        },
        {
         "name": "_deepnote_index_column",
         "dtype": "int64"
        }
       ],
       "rows": [
        {
         "manufacturer_name": "Acura",
         "price_usd": 12772.885909090908,
         "_deepnote_index_column": 0
        },
        {
         "manufacturer_name": "Alfa Romeo",
         "price_usd": 2688.5500966183567,
         "_deepnote_index_column": 1
        },
        {
         "manufacturer_name": "Audi",
         "price_usd": 7154.94492301459,
         "_deepnote_index_column": 2
        },
        {
         "manufacturer_name": "BMW",
         "price_usd": 9549.60216091954,
         "_deepnote_index_column": 3
        },
        {
         "manufacturer_name": "Buick",
         "price_usd": 12876.31914893617,
         "_deepnote_index_column": 4
        },
        {
         "manufacturer_name": "Cadillac",
         "price_usd": 11093.12465116279,
         "_deepnote_index_column": 5
        },
        {
         "manufacturer_name": "Chery",
         "price_usd": 4545.978103448276,
         "_deepnote_index_column": 6
        },
        {
         "manufacturer_name": "Chevrolet",
         "price_usd": 8873.131995412845,
         "_deepnote_index_column": 7
        },
        {
         "manufacturer_name": "Chrysler",
         "price_usd": 4995.491780487804,
         "_deepnote_index_column": 8
        },
        {
         "manufacturer_name": "Citroen",
         "price_usd": 4433.126203585149,
         "_deepnote_index_column": 9
        }
       ]
      },
      "text/plain": "   manufacturer_name     price_usd\n0              Acura  12772.885909\n1         Alfa Romeo   2688.550097\n2               Audi   7154.944923\n3                BMW   9549.602161\n4              Buick  12876.319149\n5           Cadillac  11093.124651\n6              Chery   4545.978103\n7          Chevrolet   8873.131995\n8           Chrysler   4995.491780\n9            Citroen   4433.126204\n10             Dacia   5342.751525\n11            Daewoo   1576.608733\n12             Dodge   5608.011953\n13              Fiat   3010.020279\n14              Ford   4993.888044\n15             Geely   7769.232535\n16        Great Wall   6423.760278\n17             Honda   6515.096474\n18           Hyundai   7926.190394\n19          Infiniti  13794.604938\n20             Iveco  10052.317122\n21            Jaguar  17813.000000\n22              Jeep  10912.489439\n23               Kia   8156.095526\n24              LADA   7598.681370\n25            Lancia   2901.508370\n26        Land Rover  15195.300380\n27             Lexus  17130.560845\n28             Lifan   8280.536170\n29           Lincoln   9737.472222\n30             Mazda   4731.527101\n31     Mercedes-Benz   9389.817072\n32              Mini  13133.700882\n33        Mitsubishi   5416.170800\n34            Nissan   6411.514173\n35              Opel   4425.992900\n36           Peugeot   4382.217727\n37           Pontiac   4363.544048\n38           Porsche  18629.823770\n39           Renault   4557.398873\n40             Rover   1734.242213\n41              Saab   4130.585370\n42              Seat   3868.015347\n43             Skoda  13795.448466\n44         SsangYong   7719.322405\n45            Subaru   7522.094605\n46            Suzuki   5302.598761\n47            Toyota   9798.152456\n48        Volkswagen   6428.902578\n49             Volvo   8416.341540\n50               ВАЗ   1518.921289\n51               ГАЗ   3889.731900\n52               ЗАЗ   1360.211190\n53           Москвич    978.912182\n54               УАЗ   3443.123784",
      "text/html": "<div>\n<style scoped>\n    .dataframe tbody tr th:only-of-type {\n        vertical-align: middle;\n    }\n\n    .dataframe tbody tr th {\n        vertical-align: top;\n    }\n\n    .dataframe thead th {\n        text-align: right;\n    }\n</style>\n<table border=\"1\" class=\"dataframe\">\n  <thead>\n    <tr style=\"text-align: right;\">\n      <th></th>\n      <th>manufacturer_name</th>\n      <th>price_usd</th>\n    </tr>\n  </thead>\n  <tbody>\n    <tr>\n      <th>0</th>\n      <td>Acura</td>\n      <td>12772.885909</td>\n    </tr>\n    <tr>\n      <th>1</th>\n      <td>Alfa Romeo</td>\n      <td>2688.550097</td>\n    </tr>\n    <tr>\n      <th>2</th>\n      <td>Audi</td>\n      <td>7154.944923</td>\n    </tr>\n    <tr>\n      <th>3</th>\n      <td>BMW</td>\n      <td>9549.602161</td>\n    </tr>\n    <tr>\n      <th>4</th>\n      <td>Buick</td>\n      <td>12876.319149</td>\n    </tr>\n    <tr>\n      <th>5</th>\n      <td>Cadillac</td>\n      <td>11093.124651</td>\n    </tr>\n    <tr>\n      <th>6</th>\n      <td>Chery</td>\n      <td>4545.978103</td>\n    </tr>\n    <tr>\n      <th>7</th>\n      <td>Chevrolet</td>\n      <td>8873.131995</td>\n    </tr>\n    <tr>\n      <th>8</th>\n      <td>Chrysler</td>\n      <td>4995.491780</td>\n    </tr>\n    <tr>\n      <th>9</th>\n      <td>Citroen</td>\n      <td>4433.126204</td>\n    </tr>\n    <tr>\n      <th>10</th>\n      <td>Dacia</td>\n      <td>5342.751525</td>\n    </tr>\n    <tr>\n      <th>11</th>\n      <td>Daewoo</td>\n      <td>1576.608733</td>\n    </tr>\n    <tr>\n      <th>12</th>\n      <td>Dodge</td>\n      <td>5608.011953</td>\n    </tr>\n    <tr>\n      <th>13</th>\n      <td>Fiat</td>\n      <td>3010.020279</td>\n    </tr>\n    <tr>\n      <th>14</th>\n      <td>Ford</td>\n      <td>4993.888044</td>\n    </tr>\n    <tr>\n      <th>15</th>\n      <td>Geely</td>\n      <td>7769.232535</td>\n    </tr>\n    <tr>\n      <th>16</th>\n      <td>Great Wall</td>\n      <td>6423.760278</td>\n    </tr>\n    <tr>\n      <th>17</th>\n      <td>Honda</td>\n      <td>6515.096474</td>\n    </tr>\n    <tr>\n      <th>18</th>\n      <td>Hyundai</td>\n      <td>7926.190394</td>\n    </tr>\n    <tr>\n      <th>19</th>\n      <td>Infiniti</td>\n      <td>13794.604938</td>\n    </tr>\n    <tr>\n      <th>20</th>\n      <td>Iveco</td>\n      <td>10052.317122</td>\n    </tr>\n    <tr>\n      <th>21</th>\n      <td>Jaguar</td>\n      <td>17813.000000</td>\n    </tr>\n    <tr>\n      <th>22</th>\n      <td>Jeep</td>\n      <td>10912.489439</td>\n    </tr>\n    <tr>\n      <th>23</th>\n      <td>Kia</td>\n      <td>8156.095526</td>\n    </tr>\n    <tr>\n      <th>24</th>\n      <td>LADA</td>\n      <td>7598.681370</td>\n    </tr>\n    <tr>\n      <th>25</th>\n      <td>Lancia</td>\n      <td>2901.508370</td>\n    </tr>\n    <tr>\n      <th>26</th>\n      <td>Land Rover</td>\n      <td>15195.300380</td>\n    </tr>\n    <tr>\n      <th>27</th>\n      <td>Lexus</td>\n      <td>17130.560845</td>\n    </tr>\n    <tr>\n      <th>28</th>\n      <td>Lifan</td>\n      <td>8280.536170</td>\n    </tr>\n    <tr>\n      <th>29</th>\n      <td>Lincoln</td>\n      <td>9737.472222</td>\n    </tr>\n    <tr>\n      <th>30</th>\n      <td>Mazda</td>\n      <td>4731.527101</td>\n    </tr>\n    <tr>\n      <th>31</th>\n      <td>Mercedes-Benz</td>\n      <td>9389.817072</td>\n    </tr>\n    <tr>\n      <th>32</th>\n      <td>Mini</td>\n      <td>13133.700882</td>\n    </tr>\n    <tr>\n      <th>33</th>\n      <td>Mitsubishi</td>\n      <td>5416.170800</td>\n    </tr>\n    <tr>\n      <th>34</th>\n      <td>Nissan</td>\n      <td>6411.514173</td>\n    </tr>\n    <tr>\n      <th>35</th>\n      <td>Opel</td>\n      <td>4425.992900</td>\n    </tr>\n    <tr>\n      <th>36</th>\n      <td>Peugeot</td>\n      <td>4382.217727</td>\n    </tr>\n    <tr>\n      <th>37</th>\n      <td>Pontiac</td>\n      <td>4363.544048</td>\n    </tr>\n    <tr>\n      <th>38</th>\n      <td>Porsche</td>\n      <td>18629.823770</td>\n    </tr>\n    <tr>\n      <th>39</th>\n      <td>Renault</td>\n      <td>4557.398873</td>\n    </tr>\n    <tr>\n      <th>40</th>\n      <td>Rover</td>\n      <td>1734.242213</td>\n    </tr>\n    <tr>\n      <th>41</th>\n      <td>Saab</td>\n      <td>4130.585370</td>\n    </tr>\n    <tr>\n      <th>42</th>\n      <td>Seat</td>\n      <td>3868.015347</td>\n    </tr>\n    <tr>\n      <th>43</th>\n      <td>Skoda</td>\n      <td>13795.448466</td>\n    </tr>\n    <tr>\n      <th>44</th>\n      <td>SsangYong</td>\n      <td>7719.322405</td>\n    </tr>\n    <tr>\n      <th>45</th>\n      <td>Subaru</td>\n      <td>7522.094605</td>\n    </tr>\n    <tr>\n      <th>46</th>\n      <td>Suzuki</td>\n      <td>5302.598761</td>\n    </tr>\n    <tr>\n      <th>47</th>\n      <td>Toyota</td>\n      <td>9798.152456</td>\n    </tr>\n    <tr>\n      <th>48</th>\n      <td>Volkswagen</td>\n      <td>6428.902578</td>\n    </tr>\n    <tr>\n      <th>49</th>\n      <td>Volvo</td>\n      <td>8416.341540</td>\n    </tr>\n    <tr>\n      <th>50</th>\n      <td>ВАЗ</td>\n      <td>1518.921289</td>\n    </tr>\n    <tr>\n      <th>51</th>\n      <td>ГАЗ</td>\n      <td>3889.731900</td>\n    </tr>\n    <tr>\n      <th>52</th>\n      <td>ЗАЗ</td>\n      <td>1360.211190</td>\n    </tr>\n    <tr>\n      <th>53</th>\n      <td>Москвич</td>\n      <td>978.912182</td>\n    </tr>\n    <tr>\n      <th>54</th>\n      <td>УАЗ</td>\n      <td>3443.123784</td>\n    </tr>\n  </tbody>\n</table>\n</div>"
     },
     "metadata": {}
    }
   ]
  },
  {
   "cell_type": "markdown",
   "source": "<a style='text-decoration:none;line-height:16px;display:flex;color:#5B5B62;padding:10px;justify-content:end;' href='https://deepnote.com?utm_source=created-in-deepnote-cell&projectId=02e33a0c-4367-4b9b-852f-6d7d0cb42491' target=\"_blank\">\n<img alt='Created in deepnote.com' style='display:inline;max-height:16px;margin:0px;margin-right:7.5px;' src='data:image/svg+xml;base64,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' > </img>\nCreated in <span style='font-weight:600;margin-left:4px;'>Deepnote</span></a>",
   "metadata": {
    "tags": [],
    "created_in_deepnote_cell": true,
    "deepnote_cell_type": "markdown"
   }
  }
 ],
 "nbformat": 4,
 "nbformat_minor": 2,
 "metadata": {
  "orig_nbformat": 2,
  "deepnote": {},
  "deepnote_notebook_id": "2a3f2d34-047b-4239-8866-dbf7b099af65",
  "deepnote_execution_queue": []
 }
}